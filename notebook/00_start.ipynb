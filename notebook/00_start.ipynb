{
 "cells": [
  {
   "cell_type": "markdown",
   "metadata": {},
   "source": [
    "Very keen to get started with Rust, I've heard great things about it.\n",
    "\n",
    "The main things I'm interested in are:\n",
    " * Safety\n",
    "   * Null safety, exception safety, memory safety, etc.\n",
    "   * I've been on an exercise to improve program rigour lately.\n",
    " * Strong typing\n",
    "   * Need I say more?\n",
    " * A version of C++ that doesn't suck\n",
    "    * Serious, I hate how hard it is to write good C++.\n",
    "    * A built in package manager and endless useful packages would be nice.\n",
    " * Diversifying Language\n",
    "    * I've been using Python waaaay too much lately.\n",
    "\n"
   ]
  },
  {
   "cell_type": "markdown",
   "metadata": {},
   "source": [
    "The official website is [here](rust-lang.org).\n",
    "\n",
    "I'll be following the [official tutorial](https://www.rust-lang.org/learn/get-started).\n",
    "\n",
    "I've install the latest version from Rustup."
   ]
  },
  {
   "cell_type": "markdown",
   "metadata": {},
   "source": [
    "So it seems `cargo` is the official build system.\n",
    "\n",
    "Maybe there's others. I'll find out later.\n",
    "\n",
    "The commands they list are:\n",
    "```bash\n",
    "cargo build\n",
    "cargo run\n",
    "cargo test\n",
    "cargo doc\n",
    "cargo publish\n",
    "```\n",
    "\n",
    "Well, they all seem pretty self explainatary.\n",
    "\n",
    "That's what I like to see!"
   ]
  },
  {
   "cell_type": "code",
   "execution_count": 2,
   "metadata": {},
   "outputs": [
    {
     "name": "stdout",
     "output_type": "stream",
     "text": [
      "rustc 1.85.0-nightly (426d17342 2024-12-21)\n",
      "cargo 1.85.0-nightly (652623b77 2024-12-20)\n"
     ]
    }
   ],
   "source": [
    "! rustc --version\n",
    "! cargo --version"
   ]
  },
  {
   "cell_type": "markdown",
   "metadata": {},
   "source": [
    "Versions seem to be up-to-date.\n",
    "\n",
    "I installed the recommended `rust-analyser` extension to VSCode.\n"
   ]
  },
  {
   "cell_type": "markdown",
   "metadata": {},
   "source": [
    "Next it's time to dive right in and create a package!\n",
    "\n",
    "I created one in the source directory. \n",
    "\n",
    "It wouldn't let me start the name with a digit, so I created it like so:\n",
    "```bash\n",
    "cargo new 00_hello_world --name hello_world\n",
    "```\n",
    "\n",
    "The unnamed argument is the package directory.\n",
    "\n",
    "The `--name` argument is the package name.\n",
    "\n",
    "The latter would normally be omitted as they are the same.\n"
   ]
  },
  {
   "cell_type": "markdown",
   "metadata": {},
   "source": [
    "This created the default hello world program in '00_hello_world'.\n",
    "\n",
    "```rust\n",
    "fn main() {\n",
    "    println!(\"Hello, world!\");\n",
    "}\n",
    "```\n",
    "\n",
    "First thoughts:\n",
    " * `fn` is an interesting choice, kinda math-y, no 'def' or 'fun'.\n",
    " * Looks very C-like with the semicolons, curly braces, and brackets.\n",
    " * No return type is defined??? Maybe it's assumed to be nothing.\n",
    " * No mandatory `main()` arguments.\n",
    " * Can the quotes be single quotes?\n",
    " * Why is there an exclamation mark after the function **name**?\n",
    " * Looking forward to working with you.\n",
    " "
   ]
  },
  {
   "cell_type": "markdown",
   "metadata": {},
   "source": [
    "```cargo build``` and ```cargo run``` worked with no issues.\n",
    "\n",
    "Not sure where the executable went."
   ]
  },
  {
   "cell_type": "markdown",
   "metadata": {},
   "source": [
    "Normally I try to get these working with Jupyter, but it doesn't seem like a compiled language like Rust would be a good fit.\n",
    "\n",
    "I'll have to get back to this.\n",
    "\n"
   ]
  }
 ],
 "metadata": {
  "kernelspec": {
   "display_name": ".venv",
   "language": "python",
   "name": "python3"
  },
  "language_info": {
   "codemirror_mode": {
    "name": "ipython",
    "version": 3
   },
   "file_extension": ".py",
   "mimetype": "text/x-python",
   "name": "python",
   "nbconvert_exporter": "python",
   "pygments_lexer": "ipython3",
   "version": "3.12.3"
  }
 },
 "nbformat": 4,
 "nbformat_minor": 2
}
