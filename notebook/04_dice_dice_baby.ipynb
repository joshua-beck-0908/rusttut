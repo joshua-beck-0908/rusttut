{
 "cells": [
  {
   "cell_type": "markdown",
   "metadata": {},
   "source": [
    "I had no enthusiasm about generating their example dice rolling program piece by piece.\n",
    "\n",
    "Instead I made a simple dice roll program that I might actually use with the introduce random class.\n",
    "\n",
    "```rust\n",
    "use rand::Rng;\n",
    "\n",
    "fn main() {\n",
    "    let dice_roll;\n",
    "    let maximum_dice_roll = 6;\n",
    "    \n",
    "    dice_roll = rand::rng()\n",
    "        .random_range(1..=maximum_dice_roll);\n",
    "    println!(\"You rolled: {dice_roll}\");\n",
    "}\n",
    "```\n",
    "\n",
    "The tutorial code asked me to use `rand::thread_rng().gen_range()`.\n",
    "\n",
    "The compiler hated this.\n",
    "\n",
    "It was not possible to install the versiont tutorial wanted (0.8.5) and not possible to use the tutorial code with 0.9.0.\n",
    "\n",
    "Both `thread_rng()` **and** `gen_range()` were \"deprecated\" (actually just renamed).\n",
    "\n",
    "They were renamed to `rng()` and `random_range()` respectively.\n",
    "\n",
    "I agree this name change was for the best.\n",
    "\n",
    "But the website maintainers should really update their code.\n",
    "\n",
    "The range object was... weird.\n",
    "\n",
    "Apparently `x..=y` indicates an inclusive range between x and y.\n",
    "\n",
    "Not sure why the equals sign is there, maybe exclusive ranges are possible?\n",
    "\n",
    "Anyway, it's interesting to see a native range object exists.\n",
    "\n",
    "That should be enough for now."
   ]
  },
  {
   "cell_type": "markdown",
   "metadata": {},
   "source": [
    "The tutorial added this part with the comparison operators.\n",
    "\n",
    "\n",
    "```rust\n",
    "    match guess.cmp(&secret_number) {\n",
    "        Ordering::Less => println!(\"Too small!\"),\n",
    "        Ordering::Greater => println!(\"Too big!\"),\n",
    "        Ordering::Equal => println!(\"You win!\"),\n",
    "    }\n",
    "```\n",
    "\n",
    "Whaaaaaaaaat?\n",
    "\n",
    "So can see `match` is a `switch` equivalent:\n",
    " * It works with patterns instead of constants or expressions?\n",
    " * There patterns take the form of some kind of object and are called \"arms\".\n",
    " * `Ordering` is from the `std::cmp` package.\n",
    " * This is quite a strange way to do a switch, could we not use an `if` block?\n",
    " * Apparently the **string** has a `cmp` operator that lets you compare to an *int*?\n",
    "    * How do these comparisons operate with other types?\n",
    "    * It needs a pointer even though it's given a value, for consistancy maybe.\n",
    " * Nitpick: shouldn't it be \"lesser\" rather than \"less\"?\n",
    " * Allowing a final ending comma is nice.\n",
    "\n",
    "\n",
    "\n",
    "    "
   ]
  },
  {
   "cell_type": "markdown",
   "metadata": {},
   "source": [
    "I used this strange new form to add some code rating the dice roll.\n",
    "\n",
    "It's important the end user knows how much they won purely based on random chance.\n",
    "\n",
    "```rust\n",
    "    // I wish I knew more about using functions...\n",
    "    // This is definitely a SRP violation.\n",
    "    match dice_roll.cmp(&high_roll) {\n",
    "        Ordering::Greater => println!(\"This is a high roll.😁\"),\n",
    "        Ordering::Equal => println!(\"This is a decent roll.😃\"),\n",
    "        Ordering::Less => println!(\"Eh. Good enough. 😐\"),\n",
    "    };\n",
    "```\n"
   ]
  },
  {
   "cell_type": "markdown",
   "metadata": {},
   "source": [
    "I've read a little more into this feature.\n",
    "\n",
    "Apparently it is **mandatory** to have cases for all \"arms\".\n",
    "\n",
    "Omitting one of these actually results in an error.\n",
    "\n",
    "I... I love it!\n",
    "\n",
    "I wonder if this language has an equivalent of `pass`?\n",
    "\n"
   ]
  },
  {
   "cell_type": "markdown",
   "metadata": {},
   "source": [
    "The `loop{}` operator seems to be the way to do an unconditional loop.\n",
    "\n",
    "But... where do you put the condition? I ain't about those unconditional loops!\n",
    "\n",
    "I'm guessing you put a parenthesis before the opening brace?"
   ]
  },
  {
   "cell_type": "markdown",
   "metadata": {},
   "source": [
    "I had to do something try out the number input examples and loops, so I added a numeric response:\n",
    "\n",
    "```rust\n",
    "        println!(\"Select an option.\\n(0) roll again\\n(1) Finish.\");\n",
    "        io::stdin()\n",
    "            .read_line(&mut response)\n",
    "            .expect(\"Error reading line.\");\n",
    "        \n",
    "        let response: u32 = response\n",
    "            .trim()\n",
    "            .parse()\n",
    "            .expect(\"This is not a number. Please proceed to feel shame.\");\n",
    "\n",
    "        match response.cmp(&run_again_response) {\n",
    "            Ordering::Greater => println!(\"Invalid response. You'll get another number now.😑\"),\n",
    "            Ordering::Equal => break,\n",
    "            Ordering::Less => println!(\"Okay, coming right up!😁\"),\n",
    "        }\n",
    "    }\n",
    "    println!(\"Done!\");\n",
    "```\n"
   ]
  },
  {
   "cell_type": "markdown",
   "metadata": {},
   "source": [
    "A few things... I keep accidently running `println!()` without the exclaimation mark.\n",
    "\n",
    "It still feels kind of weird. It it really that important that it's a macro rather than a \"real\" function?\n",
    "\n",
    "Still learning the comparison, so I just compared to the central value.\n",
    "\n",
    "I had to make the variable `run_again_response` as the `.cmp()` function didn't seem to accept a literal integer.\n",
    "\n",
    "Is there an arm for \"equals x, equals y, anything else\"?\n",
    "\n"
   ]
  },
  {
   "cell_type": "markdown",
   "metadata": {},
   "source": [
    "The shadowing was the weirdest part of this.\n",
    "\n",
    "It seems I can:\n",
    " * Declare a string.\n",
    " * Declare an integer with *the exact same name but different type*.\n",
    " * Have both exist simultaneously.\n",
    "\n",
    "My thoughts are:\n",
    " * This sounds like a nightmare of potentially ambiguous situations and unexpected behaviours.\n",
    " * (As the tutorial claims) it does avoid the need for bullshit variable names when doing type conversions.\n",
    "    * e.g. `variable_name` and `variable_name_string`\n",
    " * I'm honestly not sure how to feel about this."
   ]
  },
  {
   "cell_type": "markdown",
   "metadata": {},
   "source": [
    "I wasn't told about `break`.\n",
    "I just plugged it in expecting it to work and it did."
   ]
  },
  {
   "cell_type": "markdown",
   "metadata": {},
   "source": [
    "I'm not sure how to split these lines\n",
    " * I don't want to chain ten functions together in the same line, because it's very confusing.\n",
    "    * Also a pain to add arguments to later.\n",
    " * I don't want to have an inconsistant number of functions on a line.\n",
    " * Doing one per line seems wasteful.\n",
    "    * It is readable though, I'll stick with it."
   ]
  },
  {
   "cell_type": "markdown",
   "metadata": {},
   "source": [
    "The arms ending in commas is a little weird, I keep accidentally using a semicolon.\n"
   ]
  },
  {
   "cell_type": "markdown",
   "metadata": {},
   "source": [
    "The `u32` type is quite terse. At least I don't have to write `uint32_t` or something like that."
   ]
  },
  {
   "cell_type": "markdown",
   "metadata": {},
   "source": [
    "I had to move the string initialization (`let mut response = String::new()`) inside the loop.\n",
    "\n",
    "Otherwise the `.parse()` function would crash when reading for the second time.\n",
    "\n",
    "I'm not sure why."
   ]
  },
  {
   "cell_type": "markdown",
   "metadata": {},
   "source": [
    "Some err... improved error handling.\n",
    "\n",
    "```rust\n",
    "        let response: u32 = match response\n",
    "            .trim()\n",
    "            .parse() {\n",
    "                Ok(num) => num,\n",
    "                Err(_) => {\n",
    "                    println!(\"This is not a number. Please proceed to feel shame.\");\n",
    "                    println!(\"Here's another NUMBER while you wait.\");\n",
    "                    continue;\n",
    "                }\n",
    "            };\n",
    "```\n",
    "\n",
    "(this didn't work for a while because I forget to add `match`)\n",
    "\n",
    "The `Ok(num) => num` seems to just return the value the parser produced.\n",
    "\n",
    "Handling it may be mandatory(?), but there's nothing needed to change about it now.\n",
    "\n",
    "The `Err(_) => ` expression seems to be doing something different entirely.\n",
    "\n",
    "The underscore is to catch all errors, but they aren't printed?\n",
    "\n",
    "I'll have to learn more about this underscore later."
   ]
  },
  {
   "cell_type": "markdown",
   "metadata": {},
   "source": [
    "That seems to wrap up the core concepts for now.\n",
    "\n",
    "Unfortunately the code is looking quite nasty (to say the least😬).\n",
    "\n",
    "When we have everything in seperate function and classes with strong testing this'll look much better."
   ]
  }
 ],
 "metadata": {
  "language_info": {
   "name": "python"
  }
 },
 "nbformat": 4,
 "nbformat_minor": 2
}
