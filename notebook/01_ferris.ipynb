{
 "cells": [
  {
   "cell_type": "markdown",
   "metadata": {},
   "source": [
    "There's a small example application. \n",
    "\n",
    "I'd like to start making my own things as soon as possible but it's still early days.\n",
    "\n",
    "This gives a nice example of dependencies anyway.\n"
   ]
  },
  {
   "cell_type": "markdown",
   "metadata": {},
   "source": [
    "I added:\n",
    "```toml\n",
    "[dependencies]\n",
    "ferris-says = \"0.3.1\"\n",
    "```\n",
    "to my 'Cargo.toml' file.\n",
    "\n",
    "This seems to be the main package config file.\n",
    "\n",
    "This package appears to be... some kind of `cowsay` detrivative?\n",
    "\n",
    "I hope the version used in this tutorial still exists, I've had that issue in the past.\n",
    "\n",
    "Hopefully a tutorial from the official website should be reasonably up to date."
   ]
  },
  {
   "cell_type": "markdown",
   "metadata": {},
   "source": [
    "I ran `cargo build` and it collected the dependency automatically.\n",
    "\n",
    "Very nice.\n",
    "\n",
    "I wish... other languages worked this way.\n",
    "\n",
    "This apparently had eleven dependencies of it's own.\n",
    "\n",
    "My compile times are going to be pretty slow if every ~~package~~ crate does this.\n"
   ]
  },
  {
   "cell_type": "markdown",
   "metadata": {},
   "source": [
    "Autocomplete doesn't seem to be working for some reason???"
   ]
  },
  {
   "cell_type": "markdown",
   "metadata": {},
   "source": [
    "Let's analyse their example program:\n",
    "```rust\n",
    "use ferris_says::say; // from the previous step\n",
    "use std::io::{stdout, BufWriter};\n",
    "```\n",
    "So apparently a double colon is needed between namespaces?\n",
    "\n",
    "That's going to get tedious, I might make a Vim macro like with underscore.\n",
    "\n",
    "I'm guessing `std` represents the standard library.\n",
    "\n",
    "Curly brackets are used for importing multiple functions.\n",
    "\n",
    "It this a standard array/list format?\n",
    "\n",
    "```rust\n",
    "fn main() {\n",
    "    let stdout = stdout();\n",
    "    let message = String::from(\"Hello fellow Rustaceans!\");\n",
    "```\n",
    "Apparently `stdout` isn't an object itself, but a method of initialising it?\n",
    "\n",
    "How do you tell the difference? Probably package docs.\n",
    "\n",
    "`let` seems to be the stardard way to define variables. \n",
    "\n",
    "There's so many keywords for this, but you know what? Sure. It's far from the worse offender.\n",
    "\n",
    "A type isn't mentioned but seems to be obvious from the context.\n",
    "\n",
    "It that how it works?\n",
    "\n",
    "The second line has me more worried. \n",
    "\n",
    "A double quoted literal isn't a string by default but needs to be *converted to one*???\n",
    "\n",
    "Well what is it then? Looks like nasty boilerplate code.\n",
    "\n",
    "```rust\n",
    "    let width = message.chars().count();\n",
    "```\n",
    "If we need so many of these chained methods it's going to be a trainwreak quite fast.\n",
    "\n",
    "So can we not just run a `length()` method on `message`?\n",
    "\n",
    "```rust\n",
    "    let mut writer = BufWriter::new(stdout.lock());\n",
    "```\n",
    "\n",
    "...whaaaat???\n",
    "\n",
    "This is so confusing.\n",
    "\n",
    "Again it seems like we should just be able to create this BufWriter instance directly from `stdout`.\n",
    "\n",
    "Why does it need `stdout.lock()`. That's just confusing.\n",
    "\n",
    "What's `mut`? A decoration that allows... mut(ation)? \n",
    "\n",
    "```rust\n",
    "    say(&message, width, &mut writer).unwrap();\n",
    "}\n",
    "```\n",
    "\n",
    "Finally using the `say` method.\n",
    "\n",
    "It doesn't seem very wise to pass the width when the `say()` method could have easily determined it.\n",
    "\n",
    "And shouldn't it just write the `stdout` by default anyway?\n",
    "\n",
    "This really should have been monadic not triadic.\n",
    "\n",
    "I wonder what `unwrap()` is doing? I obviously lack the language knowledge to understand it.\n",
    "\n",
    "So `&` is the location of the pointer I'm guessing? Very C-like.\n",
    "\n",
    "Apparently this `mut` keyword is needed again.\n",
    "\n",
    "Why? To declare that the function will modify the underlying variable?\n",
    "\n",
    "Wouldn't that be declared in the function signature?\n",
    "\n",
    "Well perhaps it's better to explicitly define it here are well.\n",
    "\n",
    "That at least makes it clear to someone reading the code."
   ]
  },
  {
   "cell_type": "markdown",
   "metadata": {
    "vscode": {
     "languageId": "plaintext"
    }
   },
   "source": [
    "Builds and runs with no errors:\n",
    "\n",
    "```plain\n",
    " _________________________\n",
    "< Hello fello Rustaceans! >\n",
    " -------------------------\n",
    "        \\\n",
    "         \\\n",
    "            _~^~^~_\n",
    "        \\) /  o o  \\ (/\n",
    "          '_   -   _'\n",
    "          / '-----' \\\n",
    "```"
   ]
  },
  {
   "cell_type": "markdown",
   "metadata": {},
   "source": [
    "Lovely little crab icon.\n",
    "Love the pun with the name 'Ferris'.\n",
    "\n",
    "He apparently even has [his own website](https://rustacean.net/).\n",
    "Maybe I'll get the t-shirt.\n",
    "\n"
   ]
  }
 ],
 "metadata": {
  "language_info": {
   "name": "python"
  }
 },
 "nbformat": 4,
 "nbformat_minor": 2
}
