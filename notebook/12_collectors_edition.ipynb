{
 "cells": [
  {
   "cell_type": "markdown",
   "metadata": {
    "vscode": {
     "languageId": "plaintext"
    }
   },
   "source": [
    "<style> ul,p { max-width: 500px; } </style>\n",
    "\n",
    "# [Common Collections](https://doc.rust-lang.org/book/ch08-00-common-collections.html)\n",
    "\n",
    "It's been a while since my last learning session so I've reread the previous notes. 🤔\n",
    "\n",
    "Looks like it's time to learn about collections.\n",
    "\n",
    "Everyone's gotta have 'em. \n",
    "\n",
    "I've already learnt the basics of tuples, arrays, and string slicing.\n",
    "\n",
    "![collections](data/000_collections.png)\n",
    "\n",
    "But it looks like these are the ones on the stack rather than preallocated.\n",
    "\n",
    "Vectors? Hash maps? \n",
    "\n"
   ]
  },
  {
   "cell_type": "markdown",
   "metadata": {},
   "source": [
    "<style> p { max-width: 500px; } </style>\n",
    "\n",
    "So they're created with:\n",
    "```rust\n",
    "let v: Vec<i32> = Vec::new();\n",
    "```\n",
    "\n",
    "Huh... well the latter half seems redundant. Obviously it's a new vector.\n",
    "\n",
    "I suppose you'd usually use a constant or existing vector.\n",
    "\n",
    "Anyway, it's a familiar ♦️diamond♦️ syntax when defining the type contained. \n",
    "\n",
    "Vectors can only hold one type. No sushi belts.\n",
    "\n",
    "We can usually avoid this type annotation when vectors:\n",
    "\n",
    "```rust\n",
    "let Δtimes = vec![10.4, 10.3, 10.9]\n",
    "```\n",
    "\n",
    "In this case type is inferred, though apparently you have to use a macros.\n",
    "\n",
    "So that's great, but how are these different from arrays?\n",
    "\n",
    "They both seem to be a group of the same type in contiguous memory.\n",
    "\n"
   ]
  },
  {
   "cell_type": "markdown",
   "metadata": {},
   "source": [
    "<style> ul,p { max-width: 500px; } </style>\n",
    "\n",
    "## [Updating a Vector](https://doc.rust-lang.org/book/ch08-01-vectors.html#updating-a-vector)\n",
    "\n",
    "Ah, here we go:\n",
    "```rust\n",
    "    let mut v = Vec::new();\n",
    "\n",
    "    v.push(5);\n",
    "    v.push(6);\n",
    "    v.push(7);\n",
    "    v.push(8);\n",
    "```\n",
    "\n",
    "So arrays are a fixed length known at compile-time whereas vectors can be extended.\n",
    "\n",
    "They also use the heap rather than the stack.\n",
    "\n",
    "<small>It might them pay to minimize the use of these in embedded development...</small>\n",
    "\n",
    "So if you can `push()` can you also `pop()`? Or push multiple items?\n",
    "\n",
    "How is this working internally? \n",
    " * Is memory being reallocated and copied to when you add items?\n",
    " * They can't be a linked list because it said they're in contiguous memory.\n",
    " * Maybe they grow in chunks.\n",
    "\n",
    "Remember they need to be declared as mutable or the values are immutable.\n",
    "\n",
    "You also can't `push` new values onto immutable vectors.\n",
    "\n",
    "Which seems to make them exactly like immutables arrays... but I suppose they're on the heap so it might make sense if they're huge. Or you just wanted to borrow one.\n",
    "\n",
    "\n"
   ]
  },
  {
   "cell_type": "markdown",
   "metadata": {},
   "source": [
    "<style> p { max-width: 500px; } </style>\n",
    "\n",
    "## [Reading Elements of Vectors](https://doc.rust-lang.org/book/ch08-01-vectors.html#reading-elements-of-vectors)\n",
    "\n",
    "```rust\n",
    "    let v = vec![1, 2, 3, 4, 5];\n",
    "\n",
    "    let third: &i32 = &v[2];\n",
    "    println!(\"The third element is {third}\");\n",
    "\n",
    "    let third: Option<&i32> = v.get(2);\n",
    "    match third {\n",
    "        Some(third) => println!(\"The third element is {third}\"),\n",
    "        None => println!(\"There is no third element.\"),\n",
    "    }\n",
    "```\n",
    "\n",
    "They slice just like arrays. \n",
    "\n",
    "One things to remember is that in the line:\n",
    "```rust\n",
    "    let third: &i32 = &v[2];\n",
    "    let third: Option<&i32> = v.get(2);\n",
    "```\n",
    "The result of getting a single item is the <em>base type</em> and not a vector of one!\n",
    "\n",
    "So they show type possible options here. \n",
    "\n",
    "Using `[n]` or `get(n)`.\n",
    "\n",
    "The first one is dangerous because could potentially be out of bounds. \n",
    "\n",
    "Fortunately, (as we learnt) Rust never lets you read an out of range value.\n",
    "\n",
    "So it's not UB, but it will causes a panic.\n",
    "\n",
    "The second one returns a `Some` type.\n",
    "\n",
    "In the interests of safety, it's probably best to use the second one unless you know the size for sure. You know what happens when you assume: you make an arse out of you...rself and crash the program. 🧨\n",
    "\n",
    "Make sure your vector references are mutable if you intend to change or add to them!\n",
    "\n",
    "They have a reference to *The Rustonomicon* to learn more, but I'm not ready for those kind of dark arts just yet."
   ]
  },
  {
   "cell_type": "markdown",
   "metadata": {},
   "source": [
    "<style> p { max-width: 500px; } </style>\n",
    "\n",
    "## [Iterating Over the Values in a Vector](https://doc.rust-lang.org/book/ch08-01-vectors.html#iterating-over-the-values-in-a-vector)\n",
    "\n",
    "You can use the `for i in &vector {...}` syntax to iterate through a vector.\n",
    "\n"
   ]
  },
  {
   "cell_type": "code",
   "execution_count": 2,
   "metadata": {
    "vscode": {
     "languageId": "rust"
    }
   },
   "outputs": [],
   "source": [
    "fn main() {\n",
    "    let v = vec![100, 32, 57];\n",
    "    for i in &v {\n",
    "        println!(\"{i}\");\n",
    "    }\n",
    "}"
   ]
  },
  {
   "cell_type": "markdown",
   "metadata": {},
   "source": [
    "<style> p { max-width: 500px; } </style>\n",
    "\n",
    "Hmm, you need a reference to iterate over it. \n",
    "\n",
    "Was that the case with arrays as well? I must have forgotten, but probably.\n",
    "\n",
    "Other than that it's a pretty standard `for` loop. \n",
    "\n",
    "You are allowed to changed the value during a loop:\n"
   ]
  },
  {
   "cell_type": "code",
   "execution_count": null,
   "metadata": {
    "vscode": {
     "languageId": "rust"
    }
   },
   "outputs": [],
   "source": [
    "fn main() {\n",
    "    let mut v = vec![100, 32, 57];\n",
    "    for i in &mut v {\n",
    "        *i += 50;\n",
    "    }\n",
    "}\n"
   ]
  },
  {
   "cell_type": "markdown",
   "metadata": {},
   "source": [
    "<style> p { max-width: 500px; } </style>\n",
    "\n",
    "But again, **your reference must be mutable.**\n",
    "\n",
    "It's interesting that you have to use a dereference operator `*` here.\n",
    "\n",
    "In other cases Rust \"figures it out for you\".\n",
    "\n",
    "You may not add or remove values during a `for` loop.\n"
   ]
  },
  {
   "cell_type": "markdown",
   "metadata": {},
   "source": [
    "<style> p { max-width: 500px; } </style>\n",
    "\n",
    "## [Using an Enum to Store Multiple Types](https://doc.rust-lang.org/book/ch08-01-vectors.html#using-an-enum-to-store-multiple-types)\n",
    "\n",
    "You can use an enum if you need multiple types in a vector:\n",
    "\n",
    "```rust\n",
    "    enum SpreadsheetCell {\n",
    "        Int(i32),\n",
    "        Float(f64),\n",
    "        Text(String),\n",
    "    }\n",
    "\n",
    "    let row = vec![\n",
    "        SpreadsheetCell::Int(3),\n",
    "        SpreadsheetCell::Text(String::from(\"blue\")),\n",
    "        SpreadsheetCell::Float(10.12),\n",
    "    ];\n",
    "```\n",
    "\n",
    "I'm not sure if they really counts as multiple types... this is just an object vector with all the same type.\n",
    "\n",
    "But... an object vector is useful all the same!🔧\n",
    "\n",
    "I'm not sure about the memory efficiency of this.\n",
    "\n",
    "Vectors drop out of memory like other elements if they go out of scope!\n",
    "\n",
    "I added program #12 to try this out.\n",
    "\n"
   ]
  },
  {
   "cell_type": "markdown",
   "metadata": {},
   "source": [
    "<style> p { max-width: 500px; } </style>\n",
    "\n",
    "## [Storing UTF-8 Encoded Text with Strings](https://doc.rust-lang.org/book/ch08-02-strings.html#storing-utf-8-encoded-text-with-strings)\n",
    "\n",
    "Looks like we're about to get a lot more information about what a string really... is.\n",
    "\n",
    "    New Rustaceans commonly get stuck on strings for a combination of three reasons: Rust’s propensity for exposing possible errors, strings being a more complicated data structure than many programmers give them credit for, and UTF-8.\n",
    "\n",
    "I feel like that last word is going to be the most important: **UTF-8**\n",
    "\n",
    "When you look under the hood of a nice string class, there's encodings. \n",
    "\n",
    "They're messy, especially *variable length encodings*.\n",
    "\n",
    "So I worder string indexes are actually implemented in Rust.\n",
    "\n",
    "Is it:\n",
    " * (a) A nice Python-style interface where indexs line up with characters and you don't have to worry about the boundries.\n",
    " * (b) A more lower level implementation where indexes line up with bytes and you have worry about spliting code points.\n",
    "\n",
    "(a) is really nice to work with, but most languages implement (b) for performance and design simplicity reasons.\n",
    "\n",
    "It sounds like it might be (b) is this case.\n",
    "\n",
    "![Strings](data/001_string.png)\n"
   ]
  },
  {
   "cell_type": "markdown",
   "metadata": {},
   "source": [
    "<style> p { max-width: 500px; } </style>\n",
    "\n",
    "## [What Is a String?](https://doc.rust-lang.org/book/ch08-02-strings.html#what-is-a-string)\n",
    "\n",
    "    Rust has only one string type in the core language, which is the string slice str that is usually seen in its borrowed form &str. In Chapter 4, we talked about string slices, which are references to some UTF-8 encoded string data stored elsewhere. String literals, for example, are stored in the program’s binary and are therefore string slices.\n",
    "\n",
    "So these ones are purely static data in the binary right?\n",
    "\n",
    "Or somewhere else.\n",
    "\n",
    "And they aren't mutable, you have to convert them into a `String`.\n",
    "\n",
    "\n",
    "    The String type, which is provided by Rust’s standard library rather than coded into the core language, is a growable, mutable, owned, UTF-8 encoded string type. When Rustaceans refer to “strings” in Rust, they might be referring to either the String or the string slice &str types, not just one of those types. Although this section is largely about String, both types are used heavily in Rust’s standard library, and both String and string slices are UTF-8 encoded.\n",
    "\n",
    "Another reminder `str`≠`String`.\n",
    "\n",
    "So the latter is basically a subtype of collections?\n",
    "\n",
    "A byte vector with lots of extra bells and whistles?"
   ]
  },
  {
   "cell_type": "markdown",
   "metadata": {},
   "source": [
    "<style> p { max-width: 500px; } </style>\n",
    "\n",
    "## [Creating a New String](https://doc.rust-lang.org/book/ch08-02-strings.html#creating-a-new-string)\n",
    "\n",
    "Okay, so this create a `String`\n",
    "```rust\n",
    "    let mut s = String::new();\n",
    "```\n",
    "\n",
    "But using literal creates a `str`, which <u>must be converted into a string to modify</u>.\n",
    "\n",
    "```rust\n",
    "    let data = \"initial contents\";\n",
    "\n",
    "    let s = data.to_string();\n",
    "\n",
    "    // the method also works on a literal directly:\n",
    "    let s = \"initial contents\".to_string();\n",
    "```\n",
    "\n",
    "This is going to be difficult to remember, though I'm sure the type checker will make it impossible to forget.\n",
    "\n",
    "Or another alternative:\n",
    "```rust\n",
    "    let s = String::from(\"initial contents\");\n",
    "```\n",
    "\n",
    "I like this version a lot better. \n",
    "\n",
    "Using an object method on a literal seems kinda... weird?\n",
    "\n",
    "Well there's a test of operating system's Unicode support.\n",
    "```rust\n",
    "    let hello = String::from(\"السلام عليكم\");\n",
    "    let hello = String::from(\"Dobrý den\");\n",
    "    let hello = String::from(\"Hello\");\n",
    "    let hello = String::from(\"שלום\");\n",
    "    let hello = String::from(\"नमस्ते\");\n",
    "    let hello = String::from(\"こんにちは\");\n",
    "    let hello = String::from(\"안녕하세요\");\n",
    "    let hello = String::from(\"你好\");\n",
    "    let hello = String::from(\"Olá\");\n",
    "    let hello = String::from(\"Здравствуйте\");\n",
    "    let hello = String::from(\"Hola\");\n",
    "```\n",
    "\n",
    "I don't know why I keep expecting half of these to be boxes or do something weird.\n",
    "\n",
    "It isn't a problem for modern operating systems.\n",
    "\n",
    "It's just the flashbacks to older operating systems where it was an unmitigated shitshow. There'd be square boxes everywhere, you'd be prompted to download character packs, code page mismatches, or sometimes the browser or entire OS would just crash trying to render a foreign language.\n",
    "\n",
    "Anyway."
   ]
  },
  {
   "cell_type": "markdown",
   "metadata": {},
   "source": [
    "<style> p { max-width: 500px; } </style>\n",
    "\n",
    "## [Updating a String](https://doc.rust-lang.org/book/ch08-02-strings.html#updating-a-string)\n",
    "\n",
    "So more hints a string is essential just a fancy vector class.\n",
    "\n",
    "```rust\n",
    "    let mut s = String::from(\"foo\");\n",
    "    s.push_str(\"bar\");\n",
    "```\n",
    "\n",
    "Okay... so now I understand where this `push_str()` name came from.\n",
    "\n",
    "We're pushing (appending) values like you would in a vector.\n",
    "\n",
    "This is using an `&str` to add to a string, but what if we wanted to add two `String`s? The ownership system might complicate that.\n",
    "\n",
    "It also accepts a character, though they still haven't explain how overloading works in Rust.\n"
   ]
  },
  {
   "cell_type": "markdown",
   "metadata": {},
   "source": [
    "<style> p { max-width: 500px; } </style>\n",
    "\n",
    "## [Concatenation with the + Operator or the format! Macro](https://doc.rust-lang.org/book/ch08-02-strings.html#concatenation-with-the--operator-or-the-format-macro)\n",
    "\n",
    "```rust\n",
    "    let s1 = String::from(\"Hello, \");\n",
    "    let s2 = String::from(\"world!\");\n",
    "    let s3 = s1 + &s2; // note s1 has been moved here and can no longer be used\n",
    "```\n",
    "Ah, so that's how.\n",
    "\n",
    "Instead of mutating either of them you just create a whole new string.\n",
    "\n",
    "It feel like adding strings should require `mut`, but I can understand why they don't have it. \n",
    "\n",
    "The use of a reference on only one of them however, it both unexpect **and** unexplained.\n",
    "\n",
    "Apparently the class has an add method.\n",
    "\n",
    "```\n",
    "fn add(self, s: &str) -> String {\n",
    "```\n",
    "\n",
    "But that just raises more questions. Is `String` *implicitly* converted to `&str`?\n",
    "\n",
    "So the answer seems to be: yes\n",
    "\n",
    "    The reason we’re able to use &s2 in the call to add is that the compiler can coerce the &String argument into a &str ... \n",
    "    Because add does not take ownership of the s parameter, s2 will still be a valid String after this operation.\n",
    "\n",
    "There is implicit coersion, but it still has to be a `&String`, not a `String`.\n",
    "\n",
    "So what happens it we add a third option? Does that also have to be an `&String`? It seems like the signature wouldn't work either way.\n",
    "\n",
    "    Second, we can see in the signature that add takes ownership of self because self does not have an &. This means s1 in Listing 8-18 will be moved into the add call and will no longer be valid after that. So, although let s3 = s1 + &s2; looks like it will copy both strings and create a new one, this statement actually takes ownership of s1, appends a copy of the contents of s2, and then returns ownership of the result. In other words, it looks like it’s making a lot of copies, but it isn’t; the implementation is more efficient than copying.\n",
    "\n",
    "Oh I see. So it is reusing the buffer of the first string for some efficiency gains, which is why it takes ownership of the first one but not the second.\n",
    "\n",
    "```rust\n",
    "    let s1 = String::from(\"tic\");\n",
    "    let s2 = String::from(\"tac\");\n",
    "    let s3 = String::from(\"toe\");\n",
    "\n",
    "    let s = s1 + \"-\" + &s2 + \"-\" + &s3;\n",
    "    let s = format!(\"{s1}-{s2}-{s3}\");\n",
    "```\n",
    "\n",
    "So it does seem you can just keep adding more `&str` forever.\n",
    "\n",
    "Seems like you can use this to enumate the print syntax anywhere.\n",
    "\n",
    "I like this `format!()` method, the curly-braced variable style is very easy to read an efficient.\n",
    "\n",
    "Though if I recall correctly, this is a very limited version of it, the moment you want to do anything complicated you have to drop down into some printf-style syntax.\n",
    "\n",
    "\n"
   ]
  },
  {
   "cell_type": "code",
   "execution_count": 11,
   "metadata": {
    "vscode": {
     "languageId": "rust"
    }
   },
   "outputs": [
    {
     "name": "stdout",
     "output_type": "stream",
     "text": [
      "P-platers under 25 are prohibited from using vehicles above the output power of 135 kW/tonne.\n",
      "Fully licenced drivers must register to use a vehicle with an output power above 276 kW/tonne.\n",
      "Fully licenced drivers must register to use a vehicle with an output power above 276 kW/tonne.\n"
     ]
    }
   ],
   "source": [
    "let hpv = 135;\n",
    "let uhpv = 276;\n",
    "let mut output = String::new();\n",
    "let category = \"P-platers under 25\";\n",
    "let power_unit = \"kW/tonne\";\n",
    "\n",
    "output += &format!(\"{category} are prohibited from using vehicles \");\n",
    "output += &format!(\"above the output power of {hpv} {power_unit}.\\n\");\n",
    "output += &format!(\"Fully licenced drivers must register to use a vehicle \");\n",
    "output += &format!(\"with an output power above {uhpv} {power_unit}.\\n\");\n",
    "\n",
    "// Rust will not accept a String as the format argument.\n",
    "// Which is fair enough, it's bad practice to pass a regular string argument as the format string anyway.\n",
    "print!(\"{}\", &output);\n"
   ]
  },
  {
   "cell_type": "markdown",
   "metadata": {},
   "source": [
    "<style> p { max-width: 500px; } </style>\n",
    "\n",
    "## [Indexing into Strings](https://doc.rust-lang.org/book/ch08-02-strings.html#indexing-into-strings)\n",
    "\n",
    "Apparently this code should give an error:\n",
    "```rust\n",
    "    let s1 = String::from(\"hello\");\n",
    "    let h = s1[0];\n",
    "```\n",
    "As: <q>Rust strings don’t support indexing.</q>\n",
    "\n",
    "What? Why?\n",
    "\n",
    "Ah, so they explained this is because vectors use a fixed size unit but UTF-8 does not. This which would likely result in errors when naıve programmers do something like `s[10]` and expecting the eleventh character but it will cause bugs are garbled text the moment multibyte characters are involved.\n",
    "\n",
    "\n"
   ]
  },
  {
   "cell_type": "code",
   "execution_count": 6,
   "metadata": {
    "vscode": {
     "languageId": "rust"
    }
   },
   "outputs": [
    {
     "name": "stdout",
     "output_type": "stream",
     "text": [
      "Length of いいお天気ですか？ is 27 bytes\n"
     ]
    }
   ],
   "source": [
    "let s = \"いいお天気ですか？\";\n",
    "// It will however let you do len() on a str.\n",
    "// This returns the wrong answer (27 instead of 9).\n",
    "// However the byte length may be useful for copying the buffer.\n",
    "println!(\"Length of {s} is {} bytes\", s.len());\n",
    "// But how do you get the actual character length?"
   ]
  },
  {
   "cell_type": "markdown",
   "metadata": {},
   "source": [
    "<style> p { max-width: 500px; } </style>\n",
    "\n",
    "So they also point out the distinction between scalar values (UTF-8 code points) and Grapheme Clusters (letters).\n",
    "\n",
    "Scalar values are not the same since some code points are modifiers!\n",
    "\n",
    "You can use slicing, but this will panic if it splits a characters so it's not a great method.\n",
    "\n",
    "\n",
    "\n",
    "\n",
    "\n"
   ]
  },
  {
   "cell_type": "markdown",
   "metadata": {},
   "source": [
    "<style> p { max-width: 500px; } </style>\n",
    "\n",
    "## [Methods for Iterating Over Strings](https://doc.rust-lang.org/book/ch08-02-strings.html#methods-for-iterating-over-strings)\n",
    "\n",
    "So how do you iterate of a string then?\n",
    "\n",
    "You can either use the `.bytes()` or `.chars()` method.\n",
    "\n",
    "The former is raw bytes, and the latter is a scalar values.\n",
    "\n",
    "Graphemes are not provided since this method is more complicated, but available in external crates."
   ]
  },
  {
   "cell_type": "code",
   "execution_count": 9,
   "metadata": {
    "vscode": {
     "languageId": "rust"
    }
   },
   "outputs": [
    {
     "name": "stdout",
     "output_type": "stream",
     "text": [
      "Char: い\n",
      "Char: い\n",
      "Char: お\n",
      "Char: 天\n",
      "Char: 気\n",
      "Char: で\n",
      "Char: す\n",
      "Char: か\n",
      "Char: ？\n"
     ]
    },
    {
     "data": {
      "text/plain": [
       "()"
      ]
     },
     "execution_count": 9,
     "metadata": {},
     "output_type": "execute_result"
    }
   ],
   "source": [
    "let s = \"いいお天気ですか？\";\n",
    "\n",
    "for c in s.chars() {\n",
    "    println!(\"Char: {c}\");\n",
    "}\n",
    "\n"
   ]
  },
  {
   "cell_type": "markdown",
   "metadata": {},
   "source": [
    "<style> p { max-width: 500px; } </style>\n",
    "\n",
    "This should work fine.\n",
    "\n",
    "Most of the time the scalars are all you need.\n",
    "\n",
    "Well, I'm very happy they've put so much thought into proper Unicode support, and eliminating common sources of error.\n",
    "\n"
   ]
  }
 ],
 "metadata": {
  "kernelspec": {
   "display_name": "Rust",
   "language": "rust",
   "name": "rust"
  },
  "language_info": {
   "codemirror_mode": "rust",
   "file_extension": ".rs",
   "mimetype": "text/rust",
   "name": "Rust",
   "pygment_lexer": "rust",
   "version": ""
  }
 },
 "nbformat": 4,
 "nbformat_minor": 2
}
