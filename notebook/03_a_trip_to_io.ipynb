{
 "cells": [
  {
   "cell_type": "markdown",
   "metadata": {},
   "source": [
    "I'm keen to make something!\n",
    "\n",
    "I'll first analyse the example program of a number guesser."
   ]
  },
  {
   "cell_type": "markdown",
   "metadata": {},
   "source": [
    "```rust\n",
    "use std::io;\n",
    "```\n",
    "So this is like `#include <cstdio>`?\n",
    "\n",
    "```rust\n",
    "fn main() {\n",
    "    println!(\"Guess the number!\");\n",
    "\n",
    "    println!(\"Please input your guess.\");\n",
    "\n",
    "    let mut guess = String::new();\n",
    "```\n",
    "It seems you need to explictly use a string constructor.\n",
    "\n",
    "Apparently variables are immutable by default.\n",
    "\n",
    "`mut` needs to be used to be used so the value can change.\n",
    "\n",
    "Does that mean variables are `const` by default?\n",
    "\n",
    "I wonder how this interacts with pointers?\n",
    "\n",
    "There's probably a separate keyword for their contents.\n",
    "\n",
    "```rust\n",
    "    io::stdin()\n",
    "```\n",
    "Apparently we can just refer to this as `io` after `use std::io`?\n",
    "\n",
    "And it could be referred to as `std::io` *even if it hadn't been imported*???\n",
    "\n",
    "That's... interesting.\n",
    "\n",
    "```rust\n",
    "        .read_line(&mut guess)\n",
    "        .expect(\"Failed to read line\");\n",
    "\n",
    "    println!(\"You guessed: {}\", guess);\n",
    "}\n",
    "```\n",
    "\n",
    "A couple of interesting things here:\n",
    " * I said this before but... `mut` must be explictly used again when calling the function.\n",
    "    * I'm definitely in favour of this, it makes it very clear the argument is modified.\n",
    " * The ampersand is used *before `mut`* (the keyword) rather than before the variable.\n",
    "    * How the ampersand is used is not really a surprised given the heavy C influence.\n",
    " * A second method is chained on in the following line.\n",
    " * The `expect` method seems to produce an error message to satisy mandatory error handling?\n",
    "    * I'm all in favour of that. Don't ignore those errors. ☺\n",
    " * The `{}` + parameter syntax is used for variable substitution.\n",
    "    * Yuck... can't we have something like streaming or f-strings?\n",
    "    * Nevermind, apparently you can do that!\n",
    "    \n",
    "    "
   ]
  },
  {
   "cell_type": "markdown",
   "metadata": {},
   "source": [
    "I wrote this after some shameless memeing:\n",
    "```rust\n",
    "use std::io;\n",
    "\n",
    "fn main() {\n",
    "    let mut name = String::new();\n",
    "    \n",
    "    println!(\"What shall we call you?\");\n",
    "    io::stdin()\n",
    "        .read_line(&mut name)\n",
    "        .expect(\"No named given.\");\n",
    "    \n",
    "    // Hopefully this is still cool...\n",
    "    println!(\"😱You are {name}y Mc{name} face!😱\");\n",
    "}\n",
    "```\n"
   ]
  },
  {
   "cell_type": "markdown",
   "metadata": {},
   "source": [
    "No loops or flow control yet so it was challenging to make anything.\n",
    "\n",
    "There's a weird newline at the end of the variable, but I don't know how to remove it.\n",
    "\n",
    "Fortunately it uses UTF-8 like all other modern languages so there's no weird encoding errors.\n",
    "\n",
    "The error message isn't triggered on a blank line so idk what causes it.\n",
    "\n",
    "Maybe a lack of connected stdin?\n",
    "\n",
    "It seems `expect` just causes the program to crash with the given message.\n"
   ]
  }
 ],
 "metadata": {
  "language_info": {
   "name": "python"
  }
 },
 "nbformat": 4,
 "nbformat_minor": 2
}
