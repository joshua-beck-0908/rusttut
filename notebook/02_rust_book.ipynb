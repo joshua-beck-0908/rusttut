{
 "cells": [
  {
   "cell_type": "markdown",
   "metadata": {},
   "source": [
    "I'll continued from the Rust [official Rust book](https://doc.rust-lang.org/book/title-page.html).\n",
    "\n",
    "So the foreword tells you about the language's mission to:\n",
    " * Avoid the pitfalls of low level and systems code.\n",
    " * Guide users towards efficient and reliable code.\n",
    " * Catch as many mistages as possible.\n",
    " * Be transferable across many domains.\n",
    "\n",
    "Refreshingly straightforward.\n",
    "\n",
    "A lot of the following page was revision on the previous parts from the website.\n",
    "\n",
    "It does however, actually explain it.\n",
    "\n",
    "Though I was expecting that and wanted a \"naïve\" look at it first.\n",
    "\n",
    "As expected `main()` is special function, an entry point that all programs must have.\n",
    "\n",
    "The purpose of the exclaimation mark at the end of `println!()` was finally revealed:\n",
    " * It indicated a macro rather than a standard function.\n",
    " * Macros apparently follow different rules, but they don't yet elaborate on those.\n",
    " \n",
    "Also there is no escaping semicolons. ☹\n",
    "\n",
    "Semicolons are love. Semicolons are life.\n",
    "\n",
    "Apparently you can directly compile with `rustc` rather than at package level.\n",
    "\n",
    "But it seems to be like in the C world, you're never going to do than for any non-trivial program.\n",
    "\n",
    "You can build dependencies in advance with `cargo check`!\n"
   ]
  }
 ],
 "metadata": {
  "language_info": {
   "name": "python"
  }
 },
 "nbformat": 4,
 "nbformat_minor": 2
}
