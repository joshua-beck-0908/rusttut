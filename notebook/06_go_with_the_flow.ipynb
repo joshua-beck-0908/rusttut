{
 "cells": [
  {
   "cell_type": "markdown",
   "metadata": {},
   "source": [
    "# IF\n",
    "```rust\n",
    "fn main() {\n",
    "    let number = 3;\n",
    "\n",
    "    if number < 5 {\n",
    "        println!(\"condition was true\");\n",
    "    } else {\n",
    "        println!(\"condition was false\");\n",
    "    }\n",
    "}\n",
    "```\n",
    "Huh. There was a *regular `if` statement* this whole time?\n",
    " * No parenthesis are needed around the expression.\n",
    " * Truthy values are not allowed. No `if x` except with booleans.\n",
    " * Works with blocks, pretty much how you'd expect.\n",
    " * No elifs, use `else if` and `else` for multiple conditions.\n",
    " * You can (for better or worse) use it in assignment:\n",
    "    * `let number = if condition { 5 } else { 6 };`\n",
    "    * Not exactly elegant.\n",
    "    * Types of all options must match.\n",
    "\n",
    "    "
   ]
  },
  {
   "cell_type": "markdown",
   "metadata": {},
   "source": [
    "# LOOP"
   ]
  },
  {
   "cell_type": "markdown",
   "metadata": {},
   "source": [
    "Seems to be pretty standard implementation for modern languages.\n",
    " * There's a `while` loop that checks a condition.\n",
    "    * `while index < 5 {`\n",
    " * There's a `for` loop that iterates through a list.\n",
    "    * `for element in a {`\n",
    " * And also the `loop` loop from before that just repeats unconditionally?\n",
    "    * Is this really needed?\n",
    "    * Maybe a little cleaner than `while true`?\n",
    "    * Can still be ended with `break`.\n",
    " * No `until` loop.\n",
    " * Like all blocks, loops can return a value.\n",
    "    * Setup with `let result = loop {`\n",
    "    * Return with `break counter * 2;`\n",
    "      * Whaaat? Break can return a value?\n",
    "    * Can also return with an expression at the end.\n",
    " * Multilevel breaks are supported with labels.\n",
    "    * Probably the least bad way to do this.\n",
    "    * Setup with `'counting_up: loop {`.\n",
    "    * Break this loop with `break 'counting_up;`.\n",
    "    * Can you return and multilevel break?\n",
    " * `break` for loops, `return` for functions.\n"
   ]
  },
  {
   "cell_type": "markdown",
   "metadata": {},
   "source": [
    "Given it's so close to Christmas I took up the last challenge on the page.\n",
    "\n",
    "I made a program to print The Twelve Days of Christmas.\n",
    "\n",
    "See the project associated witht this notebook.\n",
    "\n",
    "That's probably the first real program I've made in Rust.\n",
    "\n",
    "Anyway, that's enough for me today.\n"
   ]
  }
 ],
 "metadata": {
  "language_info": {
   "name": "python"
  }
 },
 "nbformat": 4,
 "nbformat_minor": 2
}
